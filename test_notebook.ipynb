{
 "cells": [
  {
   "cell_type": "code",
   "execution_count": 2,
   "source": [
    "from session11_part_1 import Polygon\r\n",
    "from session11_part_2 import PolygonSequence"
   ],
   "outputs": [],
   "metadata": {}
  },
  {
   "cell_type": "markdown",
   "source": [
    "## Session 11 : Part 1 Testing"
   ],
   "metadata": {}
  },
  {
   "cell_type": "markdown",
   "source": [
    "## **ONLY Goal**\r\n",
    "- Refactor the Polygons(sequence) type, into an iterable. You'll need to implement both an iterable, and an iterator.\r\n"
   ],
   "metadata": {}
  },
  {
   "cell_type": "code",
   "execution_count": 3,
   "source": [
    "test = Polygon(8, 5)\r\n",
    "test"
   ],
   "outputs": [
    {
     "output_type": "execute_result",
     "data": {
      "text/plain": [
       "Polygon with \n",
       " Edges: 8,                 \n",
       " Circumradius: 5,                 \n",
       " Interior Angle: 135.0,                 \n",
       " Edge Length: 3.83,                 \n",
       " Apothem: 4.62,                 \n",
       " Area: 70.71,                 \n",
       " Perimeter: 30.61"
      ]
     },
     "metadata": {},
     "execution_count": 3
    }
   ],
   "metadata": {}
  },
  {
   "cell_type": "code",
   "execution_count": 4,
   "source": [
    "test.apothem"
   ],
   "outputs": [
    {
     "output_type": "execute_result",
     "data": {
      "text/plain": [
       "4.619397662556434"
      ]
     },
     "metadata": {},
     "execution_count": 4
    }
   ],
   "metadata": {}
  },
  {
   "cell_type": "code",
   "execution_count": 6,
   "source": [
    "Polygon(7, 6).apothem"
   ],
   "outputs": [
    {
     "output_type": "execute_result",
     "data": {
      "text/plain": [
       "5.405813207414515"
      ]
     },
     "metadata": {},
     "execution_count": 6
    }
   ],
   "metadata": {}
  },
  {
   "cell_type": "code",
   "execution_count": 7,
   "source": [
    "test = Polygon(71, 5)\r\n",
    "test.area"
   ],
   "outputs": [
    {
     "output_type": "execute_result",
     "data": {
      "text/plain": [
       "78.43734283014145"
      ]
     },
     "metadata": {},
     "execution_count": 7
    }
   ],
   "metadata": {}
  },
  {
   "cell_type": "code",
   "execution_count": 19,
   "source": [
    "iter(test)"
   ],
   "outputs": [
    {
     "output_type": "execute_result",
     "data": {
      "text/plain": [
       "Polygon with \n",
       " Edges: 71,                 \n",
       " Circumradius: 5,                 \n",
       " Interior Angle: 174.92957746478874,                 \n",
       " Edge Length: 0.44,                 \n",
       " Apothem: 5.00,                 \n",
       " Area: 78.44,                 \n",
       " Perimeter: 31.41"
      ]
     },
     "metadata": {},
     "execution_count": 19
    }
   ],
   "metadata": {}
  },
  {
   "cell_type": "markdown",
   "source": [
    "## Session 11 : Part 2 Testing\r\n"
   ],
   "metadata": {}
  },
  {
   "cell_type": "code",
   "execution_count": 9,
   "source": [
    "poly1 = PolygonSequence(25, 6)\r\n"
   ],
   "outputs": [],
   "metadata": {}
  },
  {
   "cell_type": "code",
   "execution_count": 10,
   "source": [
    "for Polygon in poly1:\r\n",
    "    print(Polygon)\r\n"
   ],
   "outputs": [
    {
     "output_type": "stream",
     "name": "stdout",
     "text": [
      "Polygon with \n",
      " Edges: 3,                 \n",
      " Circumradius: 6,                 \n",
      " Interior Angle: 60.0,                 \n",
      " Edge Length: 10.39,                 \n",
      " Apothem: 3.00,                 \n",
      " Area: 46.77,                 \n",
      " Perimeter: 31.18\n",
      "Polygon with \n",
      " Edges: 4,                 \n",
      " Circumradius: 6,                 \n",
      " Interior Angle: 90.0,                 \n",
      " Edge Length: 8.49,                 \n",
      " Apothem: 4.24,                 \n",
      " Area: 72.00,                 \n",
      " Perimeter: 33.94\n",
      "Polygon with \n",
      " Edges: 5,                 \n",
      " Circumradius: 6,                 \n",
      " Interior Angle: 108.0,                 \n",
      " Edge Length: 7.05,                 \n",
      " Apothem: 4.85,                 \n",
      " Area: 85.60,                 \n",
      " Perimeter: 35.27\n",
      "Polygon with \n",
      " Edges: 6,                 \n",
      " Circumradius: 6,                 \n",
      " Interior Angle: 120.0,                 \n",
      " Edge Length: 6.00,                 \n",
      " Apothem: 5.20,                 \n",
      " Area: 93.53,                 \n",
      " Perimeter: 36.00\n",
      "Polygon with \n",
      " Edges: 7,                 \n",
      " Circumradius: 6,                 \n",
      " Interior Angle: 128.57142857142858,                 \n",
      " Edge Length: 5.21,                 \n",
      " Apothem: 5.41,                 \n",
      " Area: 98.51,                 \n",
      " Perimeter: 36.45\n",
      "Polygon with \n",
      " Edges: 8,                 \n",
      " Circumradius: 6,                 \n",
      " Interior Angle: 135.0,                 \n",
      " Edge Length: 4.59,                 \n",
      " Apothem: 5.54,                 \n",
      " Area: 101.82,                 \n",
      " Perimeter: 36.74\n",
      "Polygon with \n",
      " Edges: 9,                 \n",
      " Circumradius: 6,                 \n",
      " Interior Angle: 140.0,                 \n",
      " Edge Length: 4.10,                 \n",
      " Apothem: 5.64,                 \n",
      " Area: 104.13,                 \n",
      " Perimeter: 36.94\n",
      "Polygon with \n",
      " Edges: 10,                 \n",
      " Circumradius: 6,                 \n",
      " Interior Angle: 144.0,                 \n",
      " Edge Length: 3.71,                 \n",
      " Apothem: 5.71,                 \n",
      " Area: 105.80,                 \n",
      " Perimeter: 37.08\n",
      "Polygon with \n",
      " Edges: 11,                 \n",
      " Circumradius: 6,                 \n",
      " Interior Angle: 147.27272727272728,                 \n",
      " Edge Length: 3.38,                 \n",
      " Apothem: 5.76,                 \n",
      " Area: 107.05,                 \n",
      " Perimeter: 37.19\n",
      "Polygon with \n",
      " Edges: 12,                 \n",
      " Circumradius: 6,                 \n",
      " Interior Angle: 150.0,                 \n",
      " Edge Length: 3.11,                 \n",
      " Apothem: 5.80,                 \n",
      " Area: 108.00,                 \n",
      " Perimeter: 37.27\n",
      "Polygon with \n",
      " Edges: 13,                 \n",
      " Circumradius: 6,                 \n",
      " Interior Angle: 152.30769230769232,                 \n",
      " Edge Length: 2.87,                 \n",
      " Apothem: 5.83,                 \n",
      " Area: 108.75,                 \n",
      " Perimeter: 37.33\n",
      "Polygon with \n",
      " Edges: 14,                 \n",
      " Circumradius: 6,                 \n",
      " Interior Angle: 154.28571428571428,                 \n",
      " Edge Length: 2.67,                 \n",
      " Apothem: 5.85,                 \n",
      " Area: 109.34,                 \n",
      " Perimeter: 37.38\n",
      "Polygon with \n",
      " Edges: 15,                 \n",
      " Circumradius: 6,                 \n",
      " Interior Angle: 156.0,                 \n",
      " Edge Length: 2.49,                 \n",
      " Apothem: 5.87,                 \n",
      " Area: 109.82,                 \n",
      " Perimeter: 37.42\n",
      "Polygon with \n",
      " Edges: 16,                 \n",
      " Circumradius: 6,                 \n",
      " Interior Angle: 157.5,                 \n",
      " Edge Length: 2.34,                 \n",
      " Apothem: 5.88,                 \n",
      " Area: 110.21,                 \n",
      " Perimeter: 37.46\n",
      "Polygon with \n",
      " Edges: 17,                 \n",
      " Circumradius: 6,                 \n",
      " Interior Angle: 158.8235294117647,                 \n",
      " Edge Length: 2.20,                 \n",
      " Apothem: 5.90,                 \n",
      " Area: 110.54,                 \n",
      " Perimeter: 37.48\n",
      "Polygon with \n",
      " Edges: 18,                 \n",
      " Circumradius: 6,                 \n",
      " Interior Angle: 160.0,                 \n",
      " Edge Length: 2.08,                 \n",
      " Apothem: 5.91,                 \n",
      " Area: 110.81,                 \n",
      " Perimeter: 37.51\n",
      "Polygon with \n",
      " Edges: 19,                 \n",
      " Circumradius: 6,                 \n",
      " Interior Angle: 161.05263157894734,                 \n",
      " Edge Length: 1.98,                 \n",
      " Apothem: 5.92,                 \n",
      " Area: 111.05,                 \n",
      " Perimeter: 37.53\n",
      "Polygon with \n",
      " Edges: 20,                 \n",
      " Circumradius: 6,                 \n",
      " Interior Angle: 162.0,                 \n",
      " Edge Length: 1.88,                 \n",
      " Apothem: 5.93,                 \n",
      " Area: 111.25,                 \n",
      " Perimeter: 37.54\n",
      "Polygon with \n",
      " Edges: 21,                 \n",
      " Circumradius: 6,                 \n",
      " Interior Angle: 162.85714285714286,                 \n",
      " Edge Length: 1.79,                 \n",
      " Apothem: 5.93,                 \n",
      " Area: 111.42,                 \n",
      " Perimeter: 37.56\n",
      "Polygon with \n",
      " Edges: 22,                 \n",
      " Circumradius: 6,                 \n",
      " Interior Angle: 163.63636363636363,                 \n",
      " Edge Length: 1.71,                 \n",
      " Apothem: 5.94,                 \n",
      " Area: 111.57,                 \n",
      " Perimeter: 37.57\n",
      "Polygon with \n",
      " Edges: 23,                 \n",
      " Circumradius: 6,                 \n",
      " Interior Angle: 164.34782608695653,                 \n",
      " Edge Length: 1.63,                 \n",
      " Apothem: 5.94,                 \n",
      " Area: 111.70,                 \n",
      " Perimeter: 37.58\n",
      "Polygon with \n",
      " Edges: 24,                 \n",
      " Circumradius: 6,                 \n",
      " Interior Angle: 165.0,                 \n",
      " Edge Length: 1.57,                 \n",
      " Apothem: 5.95,                 \n",
      " Area: 111.81,                 \n",
      " Perimeter: 37.59\n",
      "Polygon with \n",
      " Edges: 25,                 \n",
      " Circumradius: 6,                 \n",
      " Interior Angle: 165.6,                 \n",
      " Edge Length: 1.50,                 \n",
      " Apothem: 5.95,                 \n",
      " Area: 111.91,                 \n",
      " Perimeter: 37.60\n"
     ]
    }
   ],
   "metadata": {}
  },
  {
   "cell_type": "code",
   "execution_count": 20,
   "source": [
    "poly1.max_efficiency_polygon.edges\r\n"
   ],
   "outputs": [
    {
     "output_type": "execute_result",
     "data": {
      "text/plain": [
       "25"
      ]
     },
     "metadata": {},
     "execution_count": 20
    }
   ],
   "metadata": {}
  },
  {
   "cell_type": "code",
   "execution_count": 23,
   "source": [
    "l=[Polygon for Polygon in poly1]\r\n",
    "    \r\n"
   ],
   "outputs": [],
   "metadata": {}
  },
  {
   "cell_type": "code",
   "execution_count": 26,
   "source": [
    "k=iter(l)"
   ],
   "outputs": [],
   "metadata": {}
  },
  {
   "cell_type": "code",
   "execution_count": 28,
   "source": [
    "next(k)"
   ],
   "outputs": [
    {
     "output_type": "execute_result",
     "data": {
      "text/plain": [
       "Polygon with \n",
       " Edges: 4,                 \n",
       " Circumradius: 6,                 \n",
       " Interior Angle: 90.0,                 \n",
       " Edge Length: 8.49,                 \n",
       " Apothem: 4.24,                 \n",
       " Area: 72.00,                 \n",
       " Perimeter: 33.94"
      ]
     },
     "metadata": {},
     "execution_count": 28
    }
   ],
   "metadata": {}
  },
  {
   "cell_type": "code",
   "execution_count": 11,
   "source": [
    "q = Polygon(25, 6)\r\n",
    "q = Polygon(21, 2)\r\n"
   ],
   "outputs": [],
   "metadata": {}
  },
  {
   "cell_type": "code",
   "execution_count": 14,
   "source": [
    "p = Polygon(3, 1)\r\n",
    "str(p)"
   ],
   "outputs": [
    {
     "output_type": "execute_result",
     "data": {
      "text/plain": [
       "'Polygon with \\n Edges: 3,                 \\n Circumradius: 1,                 \\n Interior Angle: 60.0,                 \\n Edge Length: 1.73,                 \\n Apothem: 0.50,                 \\n Area: 1.30,                 \\n Perimeter: 5.20'"
      ]
     },
     "metadata": {},
     "execution_count": 14
    }
   ],
   "metadata": {}
  },
  {
   "cell_type": "code",
   "execution_count": 12,
   "source": [
    "\r\n",
    "q.__next__()\r\n"
   ],
   "outputs": [
    {
     "output_type": "execute_result",
     "data": {
      "text/plain": [
       "Polygon with \n",
       " Edges: 21,                 \n",
       " Circumradius: 2,                 \n",
       " Interior Angle: 162.85714285714286,                 \n",
       " Edge Length: 0.60,                 \n",
       " Apothem: 1.98,                 \n",
       " Area: 12.38,                 \n",
       " Perimeter: 12.52"
      ]
     },
     "metadata": {},
     "execution_count": 12
    }
   ],
   "metadata": {}
  },
  {
   "cell_type": "code",
   "execution_count": 35,
   "source": [
    "l"
   ],
   "outputs": [
    {
     "output_type": "execute_result",
     "data": {
      "text/plain": [
       "[Polygon with \n",
       "  Edges: 3,                 \n",
       "  Circumradius: 6,                 \n",
       "  Interior Angle: 60.0,                 \n",
       "  Edge Length: 10.39,                 \n",
       "  Apothem: 3.00,                 \n",
       "  Area: 46.77,                 \n",
       "  Perimeter: 31.18,\n",
       " Polygon with \n",
       "  Edges: 4,                 \n",
       "  Circumradius: 6,                 \n",
       "  Interior Angle: 90.0,                 \n",
       "  Edge Length: 8.49,                 \n",
       "  Apothem: 4.24,                 \n",
       "  Area: 72.00,                 \n",
       "  Perimeter: 33.94,\n",
       " Polygon with \n",
       "  Edges: 5,                 \n",
       "  Circumradius: 6,                 \n",
       "  Interior Angle: 108.0,                 \n",
       "  Edge Length: 7.05,                 \n",
       "  Apothem: 4.85,                 \n",
       "  Area: 85.60,                 \n",
       "  Perimeter: 35.27,\n",
       " Polygon with \n",
       "  Edges: 6,                 \n",
       "  Circumradius: 6,                 \n",
       "  Interior Angle: 120.0,                 \n",
       "  Edge Length: 6.00,                 \n",
       "  Apothem: 5.20,                 \n",
       "  Area: 93.53,                 \n",
       "  Perimeter: 36.00,\n",
       " Polygon with \n",
       "  Edges: 7,                 \n",
       "  Circumradius: 6,                 \n",
       "  Interior Angle: 128.57142857142858,                 \n",
       "  Edge Length: 5.21,                 \n",
       "  Apothem: 5.41,                 \n",
       "  Area: 98.51,                 \n",
       "  Perimeter: 36.45,\n",
       " Polygon with \n",
       "  Edges: 8,                 \n",
       "  Circumradius: 6,                 \n",
       "  Interior Angle: 135.0,                 \n",
       "  Edge Length: 4.59,                 \n",
       "  Apothem: 5.54,                 \n",
       "  Area: 101.82,                 \n",
       "  Perimeter: 36.74,\n",
       " Polygon with \n",
       "  Edges: 9,                 \n",
       "  Circumradius: 6,                 \n",
       "  Interior Angle: 140.0,                 \n",
       "  Edge Length: 4.10,                 \n",
       "  Apothem: 5.64,                 \n",
       "  Area: 104.13,                 \n",
       "  Perimeter: 36.94,\n",
       " Polygon with \n",
       "  Edges: 10,                 \n",
       "  Circumradius: 6,                 \n",
       "  Interior Angle: 144.0,                 \n",
       "  Edge Length: 3.71,                 \n",
       "  Apothem: 5.71,                 \n",
       "  Area: 105.80,                 \n",
       "  Perimeter: 37.08,\n",
       " Polygon with \n",
       "  Edges: 11,                 \n",
       "  Circumradius: 6,                 \n",
       "  Interior Angle: 147.27272727272728,                 \n",
       "  Edge Length: 3.38,                 \n",
       "  Apothem: 5.76,                 \n",
       "  Area: 107.05,                 \n",
       "  Perimeter: 37.19,\n",
       " Polygon with \n",
       "  Edges: 12,                 \n",
       "  Circumradius: 6,                 \n",
       "  Interior Angle: 150.0,                 \n",
       "  Edge Length: 3.11,                 \n",
       "  Apothem: 5.80,                 \n",
       "  Area: 108.00,                 \n",
       "  Perimeter: 37.27,\n",
       " Polygon with \n",
       "  Edges: 13,                 \n",
       "  Circumradius: 6,                 \n",
       "  Interior Angle: 152.30769230769232,                 \n",
       "  Edge Length: 2.87,                 \n",
       "  Apothem: 5.83,                 \n",
       "  Area: 108.75,                 \n",
       "  Perimeter: 37.33,\n",
       " Polygon with \n",
       "  Edges: 14,                 \n",
       "  Circumradius: 6,                 \n",
       "  Interior Angle: 154.28571428571428,                 \n",
       "  Edge Length: 2.67,                 \n",
       "  Apothem: 5.85,                 \n",
       "  Area: 109.34,                 \n",
       "  Perimeter: 37.38,\n",
       " Polygon with \n",
       "  Edges: 15,                 \n",
       "  Circumradius: 6,                 \n",
       "  Interior Angle: 156.0,                 \n",
       "  Edge Length: 2.49,                 \n",
       "  Apothem: 5.87,                 \n",
       "  Area: 109.82,                 \n",
       "  Perimeter: 37.42,\n",
       " Polygon with \n",
       "  Edges: 16,                 \n",
       "  Circumradius: 6,                 \n",
       "  Interior Angle: 157.5,                 \n",
       "  Edge Length: 2.34,                 \n",
       "  Apothem: 5.88,                 \n",
       "  Area: 110.21,                 \n",
       "  Perimeter: 37.46,\n",
       " Polygon with \n",
       "  Edges: 17,                 \n",
       "  Circumradius: 6,                 \n",
       "  Interior Angle: 158.8235294117647,                 \n",
       "  Edge Length: 2.20,                 \n",
       "  Apothem: 5.90,                 \n",
       "  Area: 110.54,                 \n",
       "  Perimeter: 37.48,\n",
       " Polygon with \n",
       "  Edges: 18,                 \n",
       "  Circumradius: 6,                 \n",
       "  Interior Angle: 160.0,                 \n",
       "  Edge Length: 2.08,                 \n",
       "  Apothem: 5.91,                 \n",
       "  Area: 110.81,                 \n",
       "  Perimeter: 37.51,\n",
       " Polygon with \n",
       "  Edges: 19,                 \n",
       "  Circumradius: 6,                 \n",
       "  Interior Angle: 161.05263157894734,                 \n",
       "  Edge Length: 1.98,                 \n",
       "  Apothem: 5.92,                 \n",
       "  Area: 111.05,                 \n",
       "  Perimeter: 37.53,\n",
       " Polygon with \n",
       "  Edges: 20,                 \n",
       "  Circumradius: 6,                 \n",
       "  Interior Angle: 162.0,                 \n",
       "  Edge Length: 1.88,                 \n",
       "  Apothem: 5.93,                 \n",
       "  Area: 111.25,                 \n",
       "  Perimeter: 37.54,\n",
       " Polygon with \n",
       "  Edges: 21,                 \n",
       "  Circumradius: 6,                 \n",
       "  Interior Angle: 162.85714285714286,                 \n",
       "  Edge Length: 1.79,                 \n",
       "  Apothem: 5.93,                 \n",
       "  Area: 111.42,                 \n",
       "  Perimeter: 37.56,\n",
       " Polygon with \n",
       "  Edges: 22,                 \n",
       "  Circumradius: 6,                 \n",
       "  Interior Angle: 163.63636363636363,                 \n",
       "  Edge Length: 1.71,                 \n",
       "  Apothem: 5.94,                 \n",
       "  Area: 111.57,                 \n",
       "  Perimeter: 37.57,\n",
       " Polygon with \n",
       "  Edges: 23,                 \n",
       "  Circumradius: 6,                 \n",
       "  Interior Angle: 164.34782608695653,                 \n",
       "  Edge Length: 1.63,                 \n",
       "  Apothem: 5.94,                 \n",
       "  Area: 111.70,                 \n",
       "  Perimeter: 37.58,\n",
       " Polygon with \n",
       "  Edges: 24,                 \n",
       "  Circumradius: 6,                 \n",
       "  Interior Angle: 165.0,                 \n",
       "  Edge Length: 1.57,                 \n",
       "  Apothem: 5.95,                 \n",
       "  Area: 111.81,                 \n",
       "  Perimeter: 37.59,\n",
       " Polygon with \n",
       "  Edges: 25,                 \n",
       "  Circumradius: 6,                 \n",
       "  Interior Angle: 165.6,                 \n",
       "  Edge Length: 1.50,                 \n",
       "  Apothem: 5.95,                 \n",
       "  Area: 111.91,                 \n",
       "  Perimeter: 37.60]"
      ]
     },
     "metadata": {},
     "execution_count": 35
    }
   ],
   "metadata": {}
  },
  {
   "cell_type": "code",
   "execution_count": null,
   "source": [],
   "outputs": [],
   "metadata": {}
  }
 ],
 "metadata": {
  "interpreter": {
   "hash": "15a46328d46a9972975b44d8cce38218389b4522b65a82b8a03a18442d90a006"
  },
  "kernelspec": {
   "name": "python3",
   "display_name": "Python 3.8.8 64-bit ('base': conda)"
  },
  "language_info": {
   "codemirror_mode": {
    "name": "ipython",
    "version": 3
   },
   "file_extension": ".py",
   "mimetype": "text/x-python",
   "name": "python",
   "nbconvert_exporter": "python",
   "pygments_lexer": "ipython3",
   "version": "3.8.8"
  },
  "orig_nbformat": 4
 },
 "nbformat": 4,
 "nbformat_minor": 2
}